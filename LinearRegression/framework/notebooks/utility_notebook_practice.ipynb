{
 "cells": [
  {
   "cell_type": "code",
   "execution_count": 1,
   "metadata": {},
   "outputs": [],
   "source": [
    "#@save\n",
    "import collections\n",
    "import hashlib\n",
    "import inspect\n",
    "import math\n",
    "import os\n",
    "import random\n",
    "import re\n",
    "import shutil\n",
    "import sys\n",
    "import tarfile\n",
    "import time\n",
    "import zipfile\n",
    "from collections import defaultdict\n",
    "import pandas as pd\n",
    "import requests\n",
    "from IPython import display\n",
    "from matplotlib import pyplot as plt\n",
    "from matplotlib_inline import backend_inline\n",
    "\n",
    "d2l = sys.modules[__name__]"
   ]
  },
  {
   "cell_type": "code",
   "execution_count": 2,
   "metadata": {},
   "outputs": [],
   "source": [
    "import tensorflow as tf\n",
    "import numpy as np\n",
    "import time\n",
    "import numpy as np\n",
    "from LinearRegression.modules.utilities import HyperParameters, add_to_class"
   ]
  },
  {
   "cell_type": "markdown",
   "metadata": {},
   "source": [
    "### This is going to be purely OOP. "
   ]
  },
  {
   "cell_type": "markdown",
   "metadata": {},
   "source": [
    "#### Define utilities"
   ]
  },
  {
   "cell_type": "markdown",
   "metadata": {},
   "source": [
    "#### A more consice  implementation of wrappers/decorators"
   ]
  },
  {
   "cell_type": "code",
   "execution_count": 3,
   "metadata": {},
   "outputs": [],
   "source": [
    "class Tenant:\n",
    "    def __init__(self, name, user_id, age):\n",
    "        self.name = name\n",
    "        self.user_id = user_id\n",
    "        self.age = age\n",
    "    def getAge(self):\n",
    "        return self.name\n",
    "    def getUserId(self):\n",
    "        return self.user_id\n",
    "        \n",
    "\n",
    "@add_to_class(Tenant)\n",
    "def getAge(self):\n",
    "    return self.age"
   ]
  },
  {
   "cell_type": "code",
   "execution_count": 4,
   "metadata": {},
   "outputs": [
    {
     "data": {
      "text/plain": [
       "'30'"
      ]
     },
     "execution_count": 4,
     "metadata": {},
     "output_type": "execute_result"
    }
   ],
   "source": [
    "tenant = Tenant('Allan S', 'id9177', '30')\n",
    "tenant.getAge()"
   ]
  },
  {
   "cell_type": "code",
   "execution_count": 5,
   "metadata": {},
   "outputs": [
    {
     "name": "stdout",
     "output_type": "stream",
     "text": [
      "self.a =  1 self.b =  4\n",
      "There is no c: True\n"
     ]
    }
   ],
   "source": [
    "## Test it \n",
    "class B(HyperParameters):\n",
    "    def __init__(self, a, b, c):\n",
    "        self.save_hyperparameters(ignore=['c'])\n",
    "        print('self.a = ', self.a, 'self.b = ', self.b)\n",
    "        print('There is no c:', not hasattr(self, 'c'))\n",
    "b = B(1, 4, 3)"
   ]
  },
  {
   "cell_type": "code",
   "execution_count": 6,
   "metadata": {},
   "outputs": [],
   "source": [
    "# Our last utility will help us visualize the \n",
    "# Progress board on our tensorboard\n",
    "class ProgressBoard(HyperParameters):\n",
    "    def __init__(self, xlabel = None,\n",
    "                ylabel = None, xlim = None, \n",
    "                ylim = None,  xscale = 'linear', yscale = 'linear',\n",
    "                ls=['-', '--', '-.', ':'], \n",
    "                colors=['C0', 'C1', 'C2', 'C3'], \n",
    "                fig=None, axes=None, figsize=(3.5, 2.5), display=True\n",
    "                ):\n",
    "        \n",
    "        self.save_hyperparameters()\n",
    "    def draw(self, X, y, label, every_n = 1):\n",
    "        raise NotImplemented #Pick up from here \n",
    "        "
   ]
  },
  {
   "cell_type": "code",
   "execution_count": null,
   "metadata": {},
   "outputs": [],
   "source": []
  },
  {
   "cell_type": "code",
   "execution_count": null,
   "metadata": {},
   "outputs": [],
   "source": []
  },
  {
   "cell_type": "code",
   "execution_count": null,
   "metadata": {},
   "outputs": [],
   "source": []
  },
  {
   "cell_type": "code",
   "execution_count": null,
   "metadata": {},
   "outputs": [],
   "source": []
  }
 ],
 "metadata": {
  "kernelspec": {
   "display_name": "Python 3",
   "language": "python",
   "name": "python3"
  },
  "language_info": {
   "codemirror_mode": {
    "name": "ipython",
    "version": 3
   },
   "file_extension": ".py",
   "mimetype": "text/x-python",
   "name": "python",
   "nbconvert_exporter": "python",
   "pygments_lexer": "ipython3",
   "version": "3.9.7"
  }
 },
 "nbformat": 4,
 "nbformat_minor": 2
}
